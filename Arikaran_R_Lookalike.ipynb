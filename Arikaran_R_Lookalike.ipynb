{
 "cells": [
  {
   "cell_type": "code",
   "execution_count": 5,
   "id": "3c14540f-4e4c-4188-9190-5ec564e04504",
   "metadata": {},
   "outputs": [
    {
     "name": "stdout",
     "output_type": "stream",
     "text": [
      "Lookalike recommendations saved to Lookalike.csv\n"
     ]
    }
   ],
   "source": [
    "import pandas as pd\n",
    "import numpy as np\n",
    "from sklearn.preprocessing import OneHotEncoder, MinMaxScaler\n",
    "from sklearn.metrics.pairwise import cosine_similarity\n",
    "\n",
    "# Step 1: Load Data\n",
    "# Load customer and transaction data\n",
    "customers = pd.read_csv(\"Customers.csv\")\n",
    "transactions = pd.read_csv(\"Transactions.csv\")\n",
    "\n",
    "# Step 2: Feature Engineering\n",
    "# Aggregate transaction data for each customer\n",
    "customer_profiles = transactions.groupby(\"CustomerID\").agg(\n",
    "    TotalRevenue=(\"TotalValue\", \"sum\"),\n",
    "    TotalTransactions=(\"TransactionID\", \"count\"),\n",
    "    PurchaseFrequency=(\"TransactionDate\", lambda x: len(pd.to_datetime(x).dt.date.unique()))\n",
    ").reset_index()\n",
    "\n",
    "# Merge customer demographics with transaction features\n",
    "merged_data = pd.merge(customers, customer_profiles, on=\"CustomerID\", how=\"inner\")\n",
    "\n",
    "# One-hot encode categorical features (Region)\n",
    "categorical_features = [\"Region\"]  # PreferredCategory is not available\n",
    "encoder = OneHotEncoder(sparse_output=False)\n",
    "encoded_categorical = encoder.fit_transform(merged_data[categorical_features])\n",
    "\n",
    "# Normalize numerical features (TotalRevenue, TotalTransactions, PurchaseFrequency)\n",
    "numerical_features = [\"TotalRevenue\", \"TotalTransactions\", \"PurchaseFrequency\"]\n",
    "scaler = MinMaxScaler()\n",
    "normalized_numerical = scaler.fit_transform(merged_data[numerical_features])\n",
    "\n",
    "# Combine all features into a single matrix\n",
    "feature_matrix = np.hstack([encoded_categorical, normalized_numerical])\n",
    "customer_ids = merged_data[\"CustomerID\"].values\n",
    "\n",
    "# Step 3: Compute Similarity\n",
    "# Calculate cosine similarity for the feature matrix\n",
    "similarity_matrix = cosine_similarity(feature_matrix)\n",
    "\n",
    "# Step 4: Generate Recommendations\n",
    "# For each customer, find the top 3 most similar customers\n",
    "lookalike_results = []\n",
    "for idx, customer_id in enumerate(customer_ids):\n",
    "    # Get similarity scores for the current customer\n",
    "    similarity_scores = similarity_matrix[idx]\n",
    "\n",
    "    # Get the indices of the top 3 similar customers (excluding itself)\n",
    "    similar_indices = np.argsort(similarity_scores)[::-1][1:4]\n",
    "\n",
    "    # Store the results\n",
    "    lookalike_results.append({\n",
    "        \"CustomerID\": customer_id,\n",
    "        \"Lookalike1\": (customer_ids[similar_indices[0]], similarity_scores[similar_indices[0]]),\n",
    "        \"Lookalike2\": (customer_ids[similar_indices[1]], similarity_scores[similar_indices[1]]),\n",
    "        \"Lookalike3\": (customer_ids[similar_indices[2]], similarity_scores[similar_indices[2]])\n",
    "    })\n",
    "\n",
    "# Step 5: Save Lookalike Results to CSV\n",
    "lookalike_df = pd.DataFrame(lookalike_results)\n",
    "lookalike_df.to_csv(\"Lookalike.csv\", index=False)\n",
    "\n",
    "print(\"Lookalike recommendations saved to Lookalike.csv\")\n",
    "\n",
    "# Documentation:\n",
    "# This script builds a lookalike model that recommends the top 3 similar customers for each customer in the dataset.\n",
    "# The model uses both customer demographics and transaction history to compute cosine similarity between customers.\n",
    "# Outputs are saved in 'Lookalike.csv' in the format: Map<CustomerID, List<(LookalikeID, SimilarityScore)>>\n"
   ]
  }
 ],
 "metadata": {
  "kernelspec": {
   "display_name": "Python [conda env:base] *",
   "language": "python",
   "name": "conda-base-py"
  },
  "language_info": {
   "codemirror_mode": {
    "name": "ipython",
    "version": 3
   },
   "file_extension": ".py",
   "mimetype": "text/x-python",
   "name": "python",
   "nbconvert_exporter": "python",
   "pygments_lexer": "ipython3",
   "version": "3.12.7"
  }
 },
 "nbformat": 4,
 "nbformat_minor": 5
}
